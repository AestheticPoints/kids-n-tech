version https://git-lfs.github.com/spec/v1
oid sha256:38a680ec997f973c93e79ab032a8e05ec7dc1857690f3ed31709f5b68ef1d9d6
size 260401
