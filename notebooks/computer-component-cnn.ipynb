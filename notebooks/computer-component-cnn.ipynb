{
 "cells": [
  {
   "cell_type": "code",
   "execution_count": 1,
   "id": "207b49bb",
   "metadata": {},
   "outputs": [
    {
     "name": "stderr",
     "output_type": "stream",
     "text": [
      "2023-05-30 18:05:58.542545: I tensorflow/tsl/cuda/cudart_stub.cc:28] Could not find cuda drivers on your machine, GPU will not be used.\n",
      "2023-05-30 18:05:58.840184: I tensorflow/tsl/cuda/cudart_stub.cc:28] Could not find cuda drivers on your machine, GPU will not be used.\n",
      "2023-05-30 18:05:58.846507: I tensorflow/core/platform/cpu_feature_guard.cc:182] This TensorFlow binary is optimized to use available CPU instructions in performance-critical operations.\n",
      "To enable the following instructions: AVX2 FMA, in other operations, rebuild TensorFlow with the appropriate compiler flags.\n",
      "2023-05-30 18:06:00.951120: W tensorflow/compiler/tf2tensorrt/utils/py_utils.cc:38] TF-TRT Warning: Could not find TensorRT\n"
     ]
    }
   ],
   "source": [
    "import tensorflow as tf\n",
    "import numpy as np\n",
    "import os\n",
    "import matplotlib.pyplot as plt"
   ]
  },
  {
   "cell_type": "code",
   "execution_count": 3,
   "id": "66687889",
   "metadata": {},
   "outputs": [],
   "source": [
    "# images=tf.data.Dataset.list_files('C:/Users/Jim/Desktop/data/*/*')\n",
    "images=tf.data.Dataset.list_files('/mnt/c/Users/Jim/Desktop/data/*/*')"
   ]
  },
  {
   "cell_type": "code",
   "execution_count": 4,
   "id": "adee90c8",
   "metadata": {},
   "outputs": [
    {
     "name": "stdout",
     "output_type": "stream",
     "text": [
      "b'/mnt/c/Users/Jim/Desktop/data/Mouse/20210102_14_51_38_000_ED8APwkrunTluVxK3VsSuEPMXAr2_T_3120_4160.jpg.png'\n",
      "b'/mnt/c/Users/Jim/Desktop/data/Mouse/ZESNVA40J674.png'\n",
      "b'/mnt/c/Users/Jim/Desktop/data/Mouse/BSON71YTFNIT.png'\n"
     ]
    },
    {
     "name": "stderr",
     "output_type": "stream",
     "text": [
      "2023-05-30 18:09:33.634916: I tensorflow/core/common_runtime/executor.cc:1197] [/device:CPU:0] (DEBUG INFO) Executor start aborting (this does not indicate an error and you can ignore this message): INVALID_ARGUMENT: You must feed a value for placeholder tensor 'Placeholder/_0' with dtype string and shape [830]\n",
      "\t [[{{node Placeholder/_0}}]]\n",
      "2023-05-30 18:09:33.635504: I tensorflow/core/common_runtime/executor.cc:1197] [/device:CPU:0] (DEBUG INFO) Executor start aborting (this does not indicate an error and you can ignore this message): INVALID_ARGUMENT: You must feed a value for placeholder tensor 'Placeholder/_0' with dtype string and shape [830]\n",
      "\t [[{{node Placeholder/_0}}]]\n"
     ]
    }
   ],
   "source": [
    "for image in images.take(3):\n",
    "    print(image.numpy())\n",
    "image_count=len(images)"
   ]
  },
  {
   "cell_type": "code",
   "execution_count": 5,
   "id": "0ec7ffb1",
   "metadata": {},
   "outputs": [],
   "source": [
    "train_size=int(image_count*0.8)\n",
    "\n",
    "train_ds=images.take(train_size)\n",
    "test_ds=images.skip(train_size)\n"
   ]
  },
  {
   "cell_type": "code",
   "execution_count": 6,
   "id": "50beb005",
   "metadata": {},
   "outputs": [],
   "source": [
    "X_train = np.expand_dims(train_ds, axis=-1)\n",
    "X_test = np.expand_dims(test_ds, axis=-1)"
   ]
  },
  {
   "cell_type": "code",
   "execution_count": 7,
   "id": "91dfe3c8",
   "metadata": {},
   "outputs": [
    {
     "data": {
      "text/plain": [
       "(<_TakeDataset element_spec=TensorSpec(shape=(), dtype=tf.string, name=None)>,\n",
       " <_TakeDataset element_spec=TensorSpec(shape=(), dtype=tf.string, name=None)>,\n",
       " <_SkipDataset element_spec=TensorSpec(shape=(), dtype=tf.string, name=None)>,\n",
       " <_SkipDataset element_spec=TensorSpec(shape=(), dtype=tf.string, name=None)>)"
      ]
     },
     "execution_count": 7,
     "metadata": {},
     "output_type": "execute_result"
    }
   ],
   "source": [
    "np.min(X_train), np.max(X_train), np.min(X_test), np.max(X_test)"
   ]
  }
 ],
 "metadata": {
  "kernelspec": {
   "display_name": "Python 3 (ipykernel)",
   "language": "python",
   "name": "python3"
  },
  "language_info": {
   "codemirror_mode": {
    "name": "ipython",
    "version": 3
   },
   "file_extension": ".py",
   "mimetype": "text/x-python",
   "name": "python",
   "nbconvert_exporter": "python",
   "pygments_lexer": "ipython3",
   "version": "3.10.6"
  },
  "toc": {
   "base_numbering": 1,
   "nav_menu": {},
   "number_sections": true,
   "sideBar": true,
   "skip_h1_title": false,
   "title_cell": "Table of Contents",
   "title_sidebar": "Contents",
   "toc_cell": false,
   "toc_position": {},
   "toc_section_display": true,
   "toc_window_display": false
  }
 },
 "nbformat": 4,
 "nbformat_minor": 5
}
